{
 "cells": [
  {
   "cell_type": "code",
   "execution_count": 43,
   "id": "34630651",
   "metadata": {},
   "outputs": [],
   "source": [
    "import pandas as pd\n",
    "import numpy as np\n",
    "from sklearn.feature_extraction.text import CountVectorizer\n",
    "import pickle\n",
    "import re\n",
    "import nltk\n",
    "from sklearn.metrics import confusion_matrix,accuracy_score\n",
    "import joblib\n",
    "from sklearn.naive_bayes import GaussianNB\n",
    "from sklearn.model_selection import train_test_split\n",
    "import warnings\n",
    "warnings.filterwarnings('ignore')"
   ]
  },
  {
   "cell_type": "code",
   "execution_count": 44,
   "id": "2a3afb72",
   "metadata": {},
   "outputs": [],
   "source": [
    "df=pd.read_csv(\"amazon_data3.csv\")\n",
    "df.dropna(subset=['review_text','review_rating'],axis=0,inplace=True)"
   ]
  },
  {
   "cell_type": "code",
   "execution_count": 45,
   "id": "0a5ec0f9",
   "metadata": {},
   "outputs": [],
   "source": [
    "df1=df[['review_text','review_rating']]\n",
    "df1['Sentiment']=np.where(df1['review_rating']>3,1,0)"
   ]
  },
  {
   "cell_type": "code",
   "execution_count": 46,
   "id": "223f352a",
   "metadata": {},
   "outputs": [],
   "source": [
    "# df1[df1['Sentiment']==0]\n",
    "df1.dropna(axis=0,inplace=True)\n",
    "df1.reset_index(drop=True,inplace=True)"
   ]
  },
  {
   "cell_type": "code",
   "execution_count": 47,
   "id": "a9867cb4",
   "metadata": {},
   "outputs": [],
   "source": [
    "dataset=df1[['review_text']]"
   ]
  },
  {
   "cell_type": "code",
   "execution_count": 48,
   "id": "37c55617",
   "metadata": {},
   "outputs": [
    {
     "data": {
      "text/html": [
       "<div>\n",
       "<style scoped>\n",
       "    .dataframe tbody tr th:only-of-type {\n",
       "        vertical-align: middle;\n",
       "    }\n",
       "\n",
       "    .dataframe tbody tr th {\n",
       "        vertical-align: top;\n",
       "    }\n",
       "\n",
       "    .dataframe thead th {\n",
       "        text-align: right;\n",
       "    }\n",
       "</style>\n",
       "<table border=\"1\" class=\"dataframe\">\n",
       "  <thead>\n",
       "    <tr style=\"text-align: right;\">\n",
       "      <th></th>\n",
       "      <th>review_text</th>\n",
       "    </tr>\n",
       "  </thead>\n",
       "  <tbody>\n",
       "    <tr>\n",
       "      <th>0</th>\n",
       "      <td>Poor battery lifePoor build quality</td>\n",
       "    </tr>\n",
       "    <tr>\n",
       "      <th>1</th>\n",
       "      <td>Work and study</td>\n",
       "    </tr>\n",
       "    <tr>\n",
       "      <th>2</th>\n",
       "      <td>Defective loptop</td>\n",
       "    </tr>\n",
       "    <tr>\n",
       "      <th>3</th>\n",
       "      <td>Nice laptopSpeed also goodOver looking superBa...</td>\n",
       "    </tr>\n",
       "    <tr>\n",
       "      <th>4</th>\n",
       "      <td>Laptop is good and smooth it's working nicely ...</td>\n",
       "    </tr>\n",
       "  </tbody>\n",
       "</table>\n",
       "</div>"
      ],
      "text/plain": [
       "                                         review_text\n",
       "0                Poor battery lifePoor build quality\n",
       "1                                     Work and study\n",
       "2                                   Defective loptop\n",
       "3  Nice laptopSpeed also goodOver looking superBa...\n",
       "4  Laptop is good and smooth it's working nicely ..."
      ]
     },
     "execution_count": 48,
     "metadata": {},
     "output_type": "execute_result"
    }
   ],
   "source": [
    "dataset.head()"
   ]
  },
  {
   "cell_type": "markdown",
   "id": "c1119d29",
   "metadata": {},
   "source": [
    "### Data Cleaning"
   ]
  },
  {
   "cell_type": "code",
   "execution_count": 49,
   "id": "2b852b5b",
   "metadata": {},
   "outputs": [
    {
     "name": "stderr",
     "output_type": "stream",
     "text": [
      "[nltk_data] Downloading package stopwords to\n",
      "[nltk_data]     C:\\Users\\INMAANN2\\AppData\\Roaming\\nltk_data...\n",
      "[nltk_data]   Package stopwords is already up-to-date!\n"
     ]
    },
    {
     "data": {
      "text/plain": [
       "True"
      ]
     },
     "execution_count": 49,
     "metadata": {},
     "output_type": "execute_result"
    }
   ],
   "source": [
    "\n",
    "nltk.download('stopwords')"
   ]
  },
  {
   "cell_type": "code",
   "execution_count": 50,
   "id": "d0862a5f",
   "metadata": {},
   "outputs": [],
   "source": [
    "from nltk.corpus import stopwords\n",
    "from nltk.stem.porter import PorterStemmer"
   ]
  },
  {
   "cell_type": "code",
   "execution_count": 51,
   "id": "7ac71789",
   "metadata": {},
   "outputs": [],
   "source": [
    "ps=PorterStemmer()\n",
    "all_stopwords=stopwords.words('english')\n",
    "all_stopwords.remove('not')"
   ]
  },
  {
   "cell_type": "code",
   "execution_count": 52,
   "id": "75d51ff4",
   "metadata": {},
   "outputs": [],
   "source": [
    "corpus=[]\n",
    "for i in range(0,df1.shape[0]):\n",
    "#     print(i)\n",
    "    review=re.sub('[^a-zA-Z]',' ',dataset['review_text'][i])\n",
    "    review=review.lower()\n",
    "    review=review.split()\n",
    "    review=[ps.stem(word) for word in review if not word in set(all_stopwords)]\n",
    "    review=' '.join(review)\n",
    "    corpus.append(review)"
   ]
  },
  {
   "cell_type": "code",
   "execution_count": 53,
   "id": "742ae8cf",
   "metadata": {},
   "outputs": [],
   "source": [
    "cvFile='c1_BoW_Sentiment_Model.pkl'\n",
    "cv=pickle.load(open(cvFile,'rb'))"
   ]
  },
  {
   "cell_type": "code",
   "execution_count": 54,
   "id": "e902e50c",
   "metadata": {},
   "outputs": [
    {
     "data": {
      "text/plain": [
       "(389, 1393)"
      ]
     },
     "execution_count": 54,
     "metadata": {},
     "output_type": "execute_result"
    }
   ],
   "source": [
    "X_fresh=cv.transform(corpus).toarray()\n",
    "X_fresh.shape"
   ]
  },
  {
   "cell_type": "code",
   "execution_count": 55,
   "id": "774bab15",
   "metadata": {},
   "outputs": [],
   "source": [
    "classifier=joblib.load('c2_Classifer_Sentiment_Model')"
   ]
  },
  {
   "cell_type": "code",
   "execution_count": 56,
   "id": "14ecb1a1",
   "metadata": {},
   "outputs": [
    {
     "name": "stdout",
     "output_type": "stream",
     "text": [
      "[1 1 0 1 1 1 1 0 0 1 1 0 1 1 1 0 1 1 1 1 0 0 1 1 0 1 1 1 1 0 0 1 1 0 1 1 1\n",
      " 1 0 0 1 1 0 1 1 1 0 1 1 1 0 1 1 1 0 1 1 1 0 1 1 1 0 1 1 1 0 1 1 1 0 1 1 1\n",
      " 0 1 1 1 1 1 1 1 0 1 1 1 1 0 1 1 1 1 1 1 1 1 1 0 1 1 1 1 0 1 1 1 1 1 1 1 1\n",
      " 1 1 1 1 1 1 1 1 1 1 1 1 1 1 1 1 1 1 1 1 1 1 1 1 1 1 1 1 1 1 1 1 1 1 1 0 1\n",
      " 0 1 1 1 1 1 1 1 0 1 1 1 1 0 1 1 1 1 1 1 1 1 1 0 1 0 1 1 1 1 1 1 1 0 1 0 1\n",
      " 1 1 1 1 1 1 0 1 0 1 1 1 1 1 1 0 1 1 1 0 1 1 1 1 0 1 1 1 0 1 1 1 1 0 1 1 1\n",
      " 0 1 1 1 1 1 0 0 1 0 1 1 1 1 1 1 0 0 1 0 1 1 1 1 1 1 0 0 1 0 1 1 1 0 1 1 1\n",
      " 0 1 0 1 1 1 1 1 1 1 1 1 1 1 0 1 1 1 0 1 0 1 1 0 1 1 1 0 1 0 1 1 0 0 1 1 1\n",
      " 1 1 1 1 1 1 1 1 1 1 0 1 1 1 1 1 1 1 1 1 0 1 1 0 1 1 1 1 0 1 1 1 1 0 1 1 1\n",
      " 1 0 1 1 1 1 1 1 1 1 1 1 1 0 1 1 1 1 1 1 1 1 1 0 1 1 1 1 1 1 1 1 1 1 1 1 1\n",
      " 1 1 1 1 1 1 1 1 1 1 1 1 1 1 1 1 1 1 1]\n"
     ]
    }
   ],
   "source": [
    "y_pred=classifier.predict(X_fresh)\n",
    "print(y_pred)"
   ]
  },
  {
   "cell_type": "code",
   "execution_count": 57,
   "id": "d18228cd",
   "metadata": {},
   "outputs": [],
   "source": [
    "dataset['predicted_label']=y_pred.tolist()"
   ]
  },
  {
   "cell_type": "code",
   "execution_count": 58,
   "id": "7afd52f1",
   "metadata": {},
   "outputs": [
    {
     "data": {
      "text/html": [
       "<div>\n",
       "<style scoped>\n",
       "    .dataframe tbody tr th:only-of-type {\n",
       "        vertical-align: middle;\n",
       "    }\n",
       "\n",
       "    .dataframe tbody tr th {\n",
       "        vertical-align: top;\n",
       "    }\n",
       "\n",
       "    .dataframe thead th {\n",
       "        text-align: right;\n",
       "    }\n",
       "</style>\n",
       "<table border=\"1\" class=\"dataframe\">\n",
       "  <thead>\n",
       "    <tr style=\"text-align: right;\">\n",
       "      <th></th>\n",
       "      <th>review_text</th>\n",
       "      <th>predicted_label</th>\n",
       "    </tr>\n",
       "  </thead>\n",
       "  <tbody>\n",
       "    <tr>\n",
       "      <th>0</th>\n",
       "      <td>Poor battery lifePoor build quality</td>\n",
       "      <td>1</td>\n",
       "    </tr>\n",
       "    <tr>\n",
       "      <th>1</th>\n",
       "      <td>Work and study</td>\n",
       "      <td>1</td>\n",
       "    </tr>\n",
       "    <tr>\n",
       "      <th>2</th>\n",
       "      <td>Defective loptop</td>\n",
       "      <td>0</td>\n",
       "    </tr>\n",
       "    <tr>\n",
       "      <th>3</th>\n",
       "      <td>Nice laptopSpeed also goodOver looking superBa...</td>\n",
       "      <td>1</td>\n",
       "    </tr>\n",
       "    <tr>\n",
       "      <th>4</th>\n",
       "      <td>Laptop is good and smooth it's working nicely ...</td>\n",
       "      <td>1</td>\n",
       "    </tr>\n",
       "  </tbody>\n",
       "</table>\n",
       "</div>"
      ],
      "text/plain": [
       "                                         review_text  predicted_label\n",
       "0                Poor battery lifePoor build quality                1\n",
       "1                                     Work and study                1\n",
       "2                                   Defective loptop                0\n",
       "3  Nice laptopSpeed also goodOver looking superBa...                1\n",
       "4  Laptop is good and smooth it's working nicely ...                1"
      ]
     },
     "execution_count": 58,
     "metadata": {},
     "output_type": "execute_result"
    }
   ],
   "source": [
    "dataset.head()"
   ]
  },
  {
   "cell_type": "code",
   "execution_count": 65,
   "id": "7ba8dbff",
   "metadata": {},
   "outputs": [],
   "source": [
    "# dataset.to_csv(\"Predicted.csv\")"
   ]
  },
  {
   "cell_type": "code",
   "execution_count": null,
   "id": "21f71d3d",
   "metadata": {},
   "outputs": [],
   "source": [
    "dataset['Actual']=df1['Sentiment']"
   ]
  },
  {
   "cell_type": "code",
   "execution_count": null,
   "id": "c26bb5d8",
   "metadata": {},
   "outputs": [],
   "source": [
    "cm=confusion_matrix(df1['Sentiment'],y_pred)"
   ]
  },
  {
   "cell_type": "code",
   "execution_count": 60,
   "id": "83050d9d",
   "metadata": {},
   "outputs": [
    {
     "name": "stdout",
     "output_type": "stream",
     "text": [
      "[[ 47  37]\n",
      " [ 23 282]]\n"
     ]
    },
    {
     "data": {
      "text/plain": [
       "0.8457583547557841"
      ]
     },
     "execution_count": 60,
     "metadata": {},
     "output_type": "execute_result"
    }
   ],
   "source": [
    "print(cm)\n",
    "accuracy_score(df1['Sentiment'],y_pred)"
   ]
  },
  {
   "cell_type": "code",
   "execution_count": 61,
   "id": "98ece9c3",
   "metadata": {},
   "outputs": [],
   "source": [
    "df['Predicted_label']=y_pred"
   ]
  },
  {
   "cell_type": "code",
   "execution_count": 62,
   "id": "d62d9880",
   "metadata": {
    "scrolled": true
   },
   "outputs": [],
   "source": [
    "positive_reviews=df[df['Predicted_label']==1]"
   ]
  },
  {
   "cell_type": "code",
   "execution_count": 63,
   "id": "9c2358c1",
   "metadata": {},
   "outputs": [],
   "source": [
    "positive_df=pd.DataFrame(positive_reviews.groupby(['name','price','asin'])['Predicted_label'].count())"
   ]
  },
  {
   "cell_type": "code",
   "execution_count": 71,
   "id": "cefb5ba7",
   "metadata": {},
   "outputs": [],
   "source": [
    "positive_df.reset_index(inplace=True)"
   ]
  },
  {
   "cell_type": "code",
   "execution_count": 78,
   "id": "0e6706d6",
   "metadata": {
    "scrolled": true
   },
   "outputs": [],
   "source": [
    "final_laptop=positive_df['name'].iloc[np.argmax(positive_df['Predicted_label'])]"
   ]
  },
  {
   "cell_type": "code",
   "execution_count": 79,
   "id": "6d5bf09c",
   "metadata": {},
   "outputs": [
    {
     "name": "stdout",
     "output_type": "stream",
     "text": [
      "Based on the number of positive reviews, the laptop which got most of the positive review is         HP Victus Gaming Laptop AMD Ryzen 5 5600H,15.6inch(39.6cm) FHD Gaming Laptop/16GB RAM/512GB SSD/9ms Response Time/144Hz/AMD Radeon RX 6500M Graphics/Backlit KB/Win11/B&O/Xbox Pass 15-fb0134AX       \n"
     ]
    }
   ],
   "source": [
    "print(f'Based on the number of positive reviews, the laptop which got most of the positive review is {final_laptop}')"
   ]
  },
  {
   "cell_type": "code",
   "execution_count": null,
   "id": "420cfff9",
   "metadata": {},
   "outputs": [],
   "source": []
  }
 ],
 "metadata": {
  "kernelspec": {
   "display_name": "Python 3 (ipykernel)",
   "language": "python",
   "name": "python3"
  },
  "language_info": {
   "codemirror_mode": {
    "name": "ipython",
    "version": 3
   },
   "file_extension": ".py",
   "mimetype": "text/x-python",
   "name": "python",
   "nbconvert_exporter": "python",
   "pygments_lexer": "ipython3",
   "version": "3.11.3"
  }
 },
 "nbformat": 4,
 "nbformat_minor": 5
}
