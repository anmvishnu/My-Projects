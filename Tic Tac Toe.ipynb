{
 "cells": [
  {
   "cell_type": "code",
   "execution_count": 1,
   "metadata": {},
   "outputs": [
    {
     "name": "stdout",
     "output_type": "stream",
     "text": [
      "\t | \t\t |\n",
      "    X\t |\tO\t |\tX\n",
      "\t | \t\t |\n",
      "----------------------------------------\n",
      "\t | \t\t |\n",
      "    O\t |\tX\t |\tO\n",
      "\t | \t\t |\n",
      "----------------------------------------\n",
      "\t | \t\t |\n",
      "    X\t |\tO\t |\tX\n",
      "\t | \t\t |\n"
     ]
    }
   ],
   "source": [
    "from IPython.display import clear_output\n",
    "def display_board(board):\n",
    "    print ('\\t','|','\\t'*2,'|')\n",
    "    print ('    '+board[7]+'\\t ' '|''\\t'+board[8]+'\\t ''|''\\t'+board[9])\n",
    "    print ('\\t','|','\\t'*2,'|')\n",
    "    print ('-'*40)\n",
    "    print ('\\t','|','\\t'*2,'|')\n",
    "    print ('    '+board[4]+'\\t ' '|''\\t'+board[5]+'\\t ''|''\\t'+board[6])\n",
    "    print ('\\t','|','\\t'*2,'|')\n",
    "    print ('-'*40)\n",
    "    print ('\\t','|','\\t'*2,'|')\n",
    "    print ('    '+board[1]+'\\t ' '|''\\t'+board[2]+'\\t ''|''\\t'+board[3])\n",
    "    print ('\\t','|','\\t'*2,'|')\n",
    "    pass  \n",
    "test_board = ['#','X','O','X','O','X','O','X','O','X']\n",
    "#test_board = [' ']*10\n",
    "display_board(test_board)"
   ]
  },
  {
   "cell_type": "code",
   "execution_count": 2,
   "metadata": {},
   "outputs": [
    {
     "name": "stdout",
     "output_type": "stream",
     "text": [
      "Please pick a marker 'X' or 'O':0\n",
      "Please pick a marker 'X' or 'O':o\n"
     ]
    },
    {
     "data": {
      "text/plain": [
       "('O', 'X')"
      ]
     },
     "execution_count": 2,
     "metadata": {},
     "output_type": "execute_result"
    }
   ],
   "source": [
    "def player_input():\n",
    "    marker = ''\n",
    "    \n",
    "    while not (marker=='X'or marker=='O'):\n",
    "        marker= input(\"Please pick a marker 'X' or 'O':\").upper()       \n",
    "    if marker=='X':\n",
    "        return('X','O')\n",
    "    else:\n",
    "        return('O','X')        \n",
    "player_input()\n",
    "        "
   ]
  },
  {
   "cell_type": "code",
   "execution_count": 3,
   "metadata": {},
   "outputs": [],
   "source": [
    "def place_marker(board, marker,position):\n",
    "    board[position]=marker\n"
   ]
  },
  {
   "cell_type": "code",
   "execution_count": 4,
   "metadata": {},
   "outputs": [
    {
     "name": "stdout",
     "output_type": "stream",
     "text": [
      "\t | \t\t |\n",
      "    X\t |\t$\t |\tX\n",
      "\t | \t\t |\n",
      "----------------------------------------\n",
      "\t | \t\t |\n",
      "    O\t |\tX\t |\tO\n",
      "\t | \t\t |\n",
      "----------------------------------------\n",
      "\t | \t\t |\n",
      "    X\t |\tO\t |\tX\n",
      "\t | \t\t |\n"
     ]
    }
   ],
   "source": [
    "place_marker(test_board,'$',8)\n",
    "display_board(test_board)"
   ]
  },
  {
   "cell_type": "code",
   "execution_count": 5,
   "metadata": {},
   "outputs": [],
   "source": [
    "def win_check(board,mark):\n",
    "    return ((board[7]==mark and board[8]==mark and board[9]==mark) or\n",
    "            (board[4]==mark and board[5]==mark and board[6]==mark) or\n",
    "            (board[1]==mark and board[2]==mark and board[3]==mark) or\n",
    "            (board[7]==mark and board[4]==mark and board[1]==mark) or\n",
    "            (board[8]==mark and board[5]==mark and board[2]==mark) or\n",
    "            (board[9]==mark and board[6]==mark and board[3]==mark) or\n",
    "            (board[7]==mark and board[5]==mark and board[3]==mark) or\n",
    "            (board[9]==mark and board[5]==mark and board[1]==mark))\n"
   ]
  },
  {
   "cell_type": "code",
   "execution_count": 6,
   "metadata": {},
   "outputs": [
    {
     "data": {
      "text/plain": [
       "True"
      ]
     },
     "execution_count": 6,
     "metadata": {},
     "output_type": "execute_result"
    }
   ],
   "source": [
    "win_check(test_board,'X')"
   ]
  },
  {
   "cell_type": "code",
   "execution_count": 7,
   "metadata": {},
   "outputs": [],
   "source": [
    "import random\n",
    "\n",
    "def choose_first():\n",
    "    if random.randint(0,1) ==1:\n",
    "        return 'Player 2'\n",
    "    else:\n",
    "        return 'Player 1'"
   ]
  },
  {
   "cell_type": "code",
   "execution_count": 8,
   "metadata": {},
   "outputs": [],
   "source": [
    "def space_check(board, position):\n",
    "    return board[position] == ' '"
   ]
  },
  {
   "cell_type": "code",
   "execution_count": 9,
   "metadata": {},
   "outputs": [],
   "source": [
    "def full_board(board):\n",
    "    for i in range(1,10):\n",
    "        if space_check(board,i):\n",
    "            return False\n",
    "        return True"
   ]
  },
  {
   "cell_type": "code",
   "execution_count": 10,
   "metadata": {},
   "outputs": [],
   "source": [
    "def player_choice(board):\n",
    "    position =0\n",
    "    \n",
    "    while position not in [1,2,3,4,5,6,7,8,9] or not space_check(board,position):\n",
    "        position= int(input('Choose your next position (1-9):'))\n",
    "        \n",
    "    return position"
   ]
  },
  {
   "cell_type": "code",
   "execution_count": 11,
   "metadata": {},
   "outputs": [],
   "source": [
    "def replay():\n",
    "    return input('Do u want to play again?\\n Enter yes or no:').lower().startswith('y')"
   ]
  },
  {
   "cell_type": "code",
   "execution_count": null,
   "metadata": {},
   "outputs": [
    {
     "name": "stdout",
     "output_type": "stream",
     "text": [
      "Welcome to Tic Tac Toe\n",
      "Please pick a marker 'X' or 'O':o\n",
      "Player 1will play first\n",
      "Are you ready to play yes or no:y\n",
      "\t | \t\t |\n",
      "     \t |\t \t |\t \n",
      "\t | \t\t |\n",
      "----------------------------------------\n",
      "\t | \t\t |\n",
      "     \t |\t \t |\t \n",
      "\t | \t\t |\n",
      "----------------------------------------\n",
      "\t | \t\t |\n",
      "     \t |\t \t |\t \n",
      "\t | \t\t |\n",
      "Choose your next position (1-9):5\n",
      "\t | \t\t |\n",
      "     \t |\t \t |\t \n",
      "\t | \t\t |\n",
      "----------------------------------------\n",
      "\t | \t\t |\n",
      "     \t |\tO\t |\t \n",
      "\t | \t\t |\n",
      "----------------------------------------\n",
      "\t | \t\t |\n",
      "     \t |\t \t |\t \n",
      "\t | \t\t |\n",
      "Choose your next position (1-9):1\n",
      "\t | \t\t |\n",
      "     \t |\t \t |\t \n",
      "\t | \t\t |\n",
      "----------------------------------------\n",
      "\t | \t\t |\n",
      "     \t |\tO\t |\t \n",
      "\t | \t\t |\n",
      "----------------------------------------\n",
      "\t | \t\t |\n",
      "    X\t |\t \t |\t \n",
      "\t | \t\t |\n",
      "Game is drawn\n",
      "Do u want to play again?\n",
      " Enter yes or no:y\n",
      "Please pick a marker 'X' or 'O':x\n",
      "Player 2will play first\n",
      "Are you ready to play yes or no:9\n",
      "Do u want to play again?\n",
      " Enter yes or no:y6\n",
      "Please pick a marker 'X' or 'O':x\n",
      "Player 1will play first\n",
      "Are you ready to play yes or no:y\n",
      "\t | \t\t |\n",
      "     \t |\t \t |\t \n",
      "\t | \t\t |\n",
      "----------------------------------------\n",
      "\t | \t\t |\n",
      "     \t |\t \t |\t \n",
      "\t | \t\t |\n",
      "----------------------------------------\n",
      "\t | \t\t |\n",
      "     \t |\t \t |\t \n",
      "\t | \t\t |\n",
      "Choose your next position (1-9):3\n",
      "\t | \t\t |\n",
      "     \t |\t \t |\t \n",
      "\t | \t\t |\n",
      "----------------------------------------\n",
      "\t | \t\t |\n",
      "     \t |\t \t |\t \n",
      "\t | \t\t |\n",
      "----------------------------------------\n",
      "\t | \t\t |\n",
      "     \t |\t \t |\tX\n",
      "\t | \t\t |\n",
      "Choose your next position (1-9):4\n",
      "\t | \t\t |\n",
      "     \t |\t \t |\t \n",
      "\t | \t\t |\n",
      "----------------------------------------\n",
      "\t | \t\t |\n",
      "    O\t |\t \t |\t \n",
      "\t | \t\t |\n",
      "----------------------------------------\n",
      "\t | \t\t |\n",
      "     \t |\t \t |\tX\n",
      "\t | \t\t |\n",
      "Choose your next position (1-9):8\n",
      "\t | \t\t |\n",
      "     \t |\tX\t |\t \n",
      "\t | \t\t |\n",
      "----------------------------------------\n",
      "\t | \t\t |\n",
      "    O\t |\t \t |\t \n",
      "\t | \t\t |\n",
      "----------------------------------------\n",
      "\t | \t\t |\n",
      "     \t |\t \t |\tX\n",
      "\t | \t\t |\n",
      "Choose your next position (1-9):1\n",
      "\t | \t\t |\n",
      "     \t |\tX\t |\t \n",
      "\t | \t\t |\n",
      "----------------------------------------\n",
      "\t | \t\t |\n",
      "    O\t |\t \t |\t \n",
      "\t | \t\t |\n",
      "----------------------------------------\n",
      "\t | \t\t |\n",
      "    O\t |\t \t |\tX\n",
      "\t | \t\t |\n",
      "Game is drawn\n"
     ]
    }
   ],
   "source": [
    "print ('Welcome to Tic Tac Toe')\n",
    "\n",
    "while True:\n",
    "    test_board = [' '] *10\n",
    "    player1_marker, player2_marker = player_input()\n",
    "    turn = choose_first()\n",
    "    print (turn + 'will play first')\n",
    "    play_game = input('Are you ready to play yes or no:')\n",
    "    \n",
    "    if play_game.lower()[0] == 'y':\n",
    "        game_on = True\n",
    "    else:\n",
    "        game_on = False\n",
    "    while game_on:\n",
    "        if turn == 'Player 1':\n",
    "            display_board(test_board)\n",
    "            position = player_choice(test_board)\n",
    "            place_marker(test_board, player1_marker, position)\n",
    "            \n",
    "            if win_check (test_board,player1_marker):\n",
    "                display_board(test_board)\n",
    "                print ('Congratulations! you have won the game!')\n",
    "                game_on = False\n",
    "            else:\n",
    "                if full_board(test_board):\n",
    "                    display_board(test_board)\n",
    "                    print ('Game is drawn')\n",
    "                    break\n",
    "                else:\n",
    "                    turn = 'Player 2'\n",
    "        else:\n",
    "            \n",
    "            display_board(test_board)\n",
    "            position = player_choice(test_board)\n",
    "            place_marker(test_board, player2_marker, position)\n",
    "            \n",
    "            if win_check (test_board,player2_marker):\n",
    "                display_board(test_board)\n",
    "                print ('Player 2 has won!')\n",
    "                game_on = False\n",
    "            else:\n",
    "                if full_board(test_board):\n",
    "                    display_board(test_board)\n",
    "                    print ('Game is drawn')\n",
    "                    break\n",
    "                else:\n",
    "                    turn = 'Player 1'\n",
    "    if not replay():\n",
    "        break"
   ]
  },
  {
   "cell_type": "code",
   "execution_count": null,
   "metadata": {},
   "outputs": [],
   "source": []
  },
  {
   "cell_type": "code",
   "execution_count": null,
   "metadata": {},
   "outputs": [],
   "source": []
  }
 ],
 "metadata": {
  "kernelspec": {
   "display_name": "Python 3",
   "language": "python",
   "name": "python3"
  },
  "language_info": {
   "codemirror_mode": {
    "name": "ipython",
    "version": 3
   },
   "file_extension": ".py",
   "mimetype": "text/x-python",
   "name": "python",
   "nbconvert_exporter": "python",
   "pygments_lexer": "ipython3",
   "version": "3.7.4"
  }
 },
 "nbformat": 4,
 "nbformat_minor": 2
}
